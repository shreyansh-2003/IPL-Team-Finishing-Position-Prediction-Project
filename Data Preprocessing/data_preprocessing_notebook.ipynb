{
 "cells": [
  {
   "cell_type": "markdown",
   "id": "7904a4d7",
   "metadata": {},
   "source": [
    "# IPL ESPN Cricinfo Team Standing Prediction ML Project\n",
    "\n",
    "## Data Preprocessing\n",
    "\n",
    "__Problem Statement:__\n",
    "Given the performance statistics of an IPL player, predict what position might the player's team secure in that year."
   ]
  },
  {
   "cell_type": "markdown",
   "id": "b0c5df34",
   "metadata": {},
   "source": [
    "> # Completion Table\n",
    "| __TASKS__ | __STATUS__ |\n",
    "| --- | --- |\n",
    "| __Creating a Problem Statement__ | Completed |\n",
    "| __Creating an Uncleaned Dataset__ | Completed |\n",
    "| __Data Preprocessing__ | Completed |\n",
    "| __Model Building*__| Incomplete |\n",
    "| __Hyper Parameter Tuning__| Incomplete|\n",
    "| __ROC Curve__| Incomplete|\n",
    "\n",
    "__*__ Models to be created include __KNN, Logistic Regression, Decision Tree , Random Forest, SVM, Naive Bayes__\n",
    "\n",
    "---\n",
    "> # Classification Capstone Project Tasks\n",
    "- Identifying a domain with a problem which can be addressed using Prediction Techniques.\n",
    "- Creating a Dataset for classification with minimum 20 Features and 100 rows. The Data is scrapped from espn cricinfo's website.\n",
    "- Ensure the dataset has all possible combination of feature where data preprocessing techniques can be applied ( Data Cleaning, Dimensionality Reduction, Data Transformation, Feature Engineering).\n",
    "- Applying all the categories of classification algorithm( KNN, Logistic Regression, Decision Tree, Random Forest, SVM, Naïve Bayes) along with hyper parameter tuning and measure through best suited evaluation metric.\n",
    "- Using the ROC curve to determine the best algorithm for your dataset.\n",
    "\n",
    "---"
   ]
  },
  {
   "cell_type": "markdown",
   "id": "d7ce6e1e",
   "metadata": {},
   "source": [
    "# Data Pre-Processing"
   ]
  },
  {
   "cell_type": "markdown",
   "id": "a06d8173",
   "metadata": {},
   "source": [
    "## Importing Required Libraries"
   ]
  },
  {
   "cell_type": "code",
   "execution_count": 597,
   "id": "2bf127c5",
   "metadata": {},
   "outputs": [],
   "source": [
    "import pandas as pd\n",
    "\n",
    "from sklearn.preprocessing import OrdinalEncoder\n",
    "from sklearn.preprocessing import LabelEncoder\n",
    "from sklearn.preprocessing import StandardScaler\n",
    "from sklearn.preprocessing import RobustScaler\n",
    "\n",
    "\n",
    "from sklearn.datasets import make_classification\n",
    "from sklearn.feature_selection import RFE\n",
    "from sklearn.model_selection import cross_val_score\n",
    "from sklearn.feature_selection import SelectKBest, f_classif\n",
    "\n",
    "from sklearn.model_selection import train_test_split\n",
    "from sklearn.neighbors import KNeighborsClassifier\n",
    "from sklearn.linear_model import LogisticRegression\n",
    "from sklearn.tree import DecisionTreeClassifier\n",
    "from sklearn.ensemble import RandomForestClassifier\n",
    "from sklearn.svm import SVC\n",
    "from sklearn.naive_bayes import GaussianNB\n",
    "from sklearn.metrics import accuracy_score, f1_score\n",
    "\n",
    "\n",
    "import seaborn as sns\n",
    "import matplotlib.pyplot as plt\n",
    "\n",
    "import numpy as np\n",
    "import re"
   ]
  },
  {
   "cell_type": "markdown",
   "id": "593708be",
   "metadata": {},
   "source": [
    "## Importing Uncleaned Dataset\n",
    "I am importing the uncleaned dataset to avoid time-heavy dataset creation process through webscrapping"
   ]
  },
  {
   "cell_type": "code",
   "execution_count": 598,
   "id": "a4efe005",
   "metadata": {},
   "outputs": [
    {
     "data": {
      "text/html": [
       "<div>\n",
       "<style scoped>\n",
       "    .dataframe tbody tr th:only-of-type {\n",
       "        vertical-align: middle;\n",
       "    }\n",
       "\n",
       "    .dataframe tbody tr th {\n",
       "        vertical-align: top;\n",
       "    }\n",
       "\n",
       "    .dataframe thead th {\n",
       "        text-align: right;\n",
       "    }\n",
       "</style>\n",
       "<table border=\"1\" class=\"dataframe\">\n",
       "  <thead>\n",
       "    <tr style=\"text-align: right;\">\n",
       "      <th></th>\n",
       "      <th>player_name</th>\n",
       "      <th>team</th>\n",
       "      <th>year</th>\n",
       "      <th>matches_played</th>\n",
       "      <th>innings_bowled</th>\n",
       "      <th>overs_bowled</th>\n",
       "      <th>maidens_earned</th>\n",
       "      <th>runs_conceded</th>\n",
       "      <th>wickets_taken</th>\n",
       "      <th>best_innings_bowling</th>\n",
       "      <th>...</th>\n",
       "      <th>highest_score</th>\n",
       "      <th>batting_average</th>\n",
       "      <th>balls_faced</th>\n",
       "      <th>batting_strike_rate</th>\n",
       "      <th>hundreds_scored</th>\n",
       "      <th>fifties_scored</th>\n",
       "      <th>ducks_scored</th>\n",
       "      <th>fours_scored</th>\n",
       "      <th>sixes_scored</th>\n",
       "      <th>TARGET(position)</th>\n",
       "    </tr>\n",
       "  </thead>\n",
       "  <tbody>\n",
       "    <tr>\n",
       "      <th>945</th>\n",
       "      <td>CJ Anderson</td>\n",
       "      <td>Delhi Capitals</td>\n",
       "      <td>2017</td>\n",
       "      <td>11</td>\n",
       "      <td>8.0</td>\n",
       "      <td>18.5</td>\n",
       "      <td>0.0</td>\n",
       "      <td>186.0</td>\n",
       "      <td>3.0</td>\n",
       "      <td>1/23</td>\n",
       "      <td>...</td>\n",
       "      <td>41*</td>\n",
       "      <td>20.28</td>\n",
       "      <td>123.0</td>\n",
       "      <td>115.44</td>\n",
       "      <td>0.0</td>\n",
       "      <td>0.0</td>\n",
       "      <td>1.0</td>\n",
       "      <td>8.0</td>\n",
       "      <td>9.0</td>\n",
       "      <td>6th</td>\n",
       "    </tr>\n",
       "    <tr>\n",
       "      <th>1217</th>\n",
       "      <td>J Theron</td>\n",
       "      <td>Punjab Kings</td>\n",
       "      <td>2010</td>\n",
       "      <td>7</td>\n",
       "      <td>7.0</td>\n",
       "      <td>24.0</td>\n",
       "      <td>0.0</td>\n",
       "      <td>187.0</td>\n",
       "      <td>6.0</td>\n",
       "      <td>2/17</td>\n",
       "      <td>...</td>\n",
       "      <td>2</td>\n",
       "      <td>1.00</td>\n",
       "      <td>5.0</td>\n",
       "      <td>40.00</td>\n",
       "      <td>0.0</td>\n",
       "      <td>0.0</td>\n",
       "      <td>1.0</td>\n",
       "      <td>0.0</td>\n",
       "      <td>0.0</td>\n",
       "      <td>8th</td>\n",
       "    </tr>\n",
       "    <tr>\n",
       "      <th>7</th>\n",
       "      <td>B Akhil</td>\n",
       "      <td>Royal Challengers Bangalore</td>\n",
       "      <td>2008</td>\n",
       "      <td>7</td>\n",
       "      <td>6.0</td>\n",
       "      <td>17.2</td>\n",
       "      <td>0.0</td>\n",
       "      <td>134.0</td>\n",
       "      <td>2.0</td>\n",
       "      <td>2/17</td>\n",
       "      <td>...</td>\n",
       "      <td>27*</td>\n",
       "      <td>15.33</td>\n",
       "      <td>31.0</td>\n",
       "      <td>148.38</td>\n",
       "      <td>0.0</td>\n",
       "      <td>0.0</td>\n",
       "      <td>1.0</td>\n",
       "      <td>4.0</td>\n",
       "      <td>3.0</td>\n",
       "      <td>7th</td>\n",
       "    </tr>\n",
       "    <tr>\n",
       "      <th>2004</th>\n",
       "      <td>SS Iyer</td>\n",
       "      <td>Delhi Capitals</td>\n",
       "      <td>2017</td>\n",
       "      <td>12</td>\n",
       "      <td>NaN</td>\n",
       "      <td>NaN</td>\n",
       "      <td>NaN</td>\n",
       "      <td>NaN</td>\n",
       "      <td>NaN</td>\n",
       "      <td>NaN</td>\n",
       "      <td>...</td>\n",
       "      <td>96</td>\n",
       "      <td>33.80</td>\n",
       "      <td>243.0</td>\n",
       "      <td>139.09</td>\n",
       "      <td>0.0</td>\n",
       "      <td>2.0</td>\n",
       "      <td>0.0</td>\n",
       "      <td>36.0</td>\n",
       "      <td>10.0</td>\n",
       "      <td>6th</td>\n",
       "    </tr>\n",
       "    <tr>\n",
       "      <th>241</th>\n",
       "      <td>JA Morkel</td>\n",
       "      <td>Chennai Super Kings</td>\n",
       "      <td>2011</td>\n",
       "      <td>15</td>\n",
       "      <td>14.0</td>\n",
       "      <td>45.0</td>\n",
       "      <td>1.0</td>\n",
       "      <td>382.0</td>\n",
       "      <td>15.0</td>\n",
       "      <td>3/29</td>\n",
       "      <td>...</td>\n",
       "      <td>30*</td>\n",
       "      <td>23.00</td>\n",
       "      <td>102.0</td>\n",
       "      <td>135.29</td>\n",
       "      <td>0.0</td>\n",
       "      <td>0.0</td>\n",
       "      <td>1.0</td>\n",
       "      <td>8.0</td>\n",
       "      <td>8.0</td>\n",
       "      <td>1st</td>\n",
       "    </tr>\n",
       "  </tbody>\n",
       "</table>\n",
       "<p>5 rows × 28 columns</p>\n",
       "</div>"
      ],
      "text/plain": [
       "      player_name                         team  year  matches_played  \\\n",
       "945   CJ Anderson               Delhi Capitals  2017              11   \n",
       "1217     J Theron                 Punjab Kings  2010               7   \n",
       "7         B Akhil  Royal Challengers Bangalore  2008               7   \n",
       "2004      SS Iyer               Delhi Capitals  2017              12   \n",
       "241     JA Morkel          Chennai Super Kings  2011              15   \n",
       "\n",
       "      innings_bowled  overs_bowled  maidens_earned  runs_conceded  \\\n",
       "945              8.0          18.5             0.0          186.0   \n",
       "1217             7.0          24.0             0.0          187.0   \n",
       "7                6.0          17.2             0.0          134.0   \n",
       "2004             NaN           NaN             NaN            NaN   \n",
       "241             14.0          45.0             1.0          382.0   \n",
       "\n",
       "      wickets_taken best_innings_bowling  ... highest_score  batting_average  \\\n",
       "945             3.0                 1/23  ...           41*            20.28   \n",
       "1217            6.0                 2/17  ...             2             1.00   \n",
       "7               2.0                 2/17  ...           27*            15.33   \n",
       "2004            NaN                  NaN  ...            96            33.80   \n",
       "241            15.0                 3/29  ...           30*            23.00   \n",
       "\n",
       "     balls_faced  batting_strike_rate  hundreds_scored  fifties_scored  \\\n",
       "945        123.0               115.44              0.0             0.0   \n",
       "1217         5.0                40.00              0.0             0.0   \n",
       "7           31.0               148.38              0.0             0.0   \n",
       "2004       243.0               139.09              0.0             2.0   \n",
       "241        102.0               135.29              0.0             0.0   \n",
       "\n",
       "      ducks_scored  fours_scored sixes_scored TARGET(position)  \n",
       "945            1.0           8.0          9.0              6th  \n",
       "1217           1.0           0.0          0.0              8th  \n",
       "7              1.0           4.0          3.0              7th  \n",
       "2004           0.0          36.0         10.0              6th  \n",
       "241            1.0           8.0          8.0              1st  \n",
       "\n",
       "[5 rows x 28 columns]"
      ]
     },
     "execution_count": 598,
     "metadata": {},
     "output_type": "execute_result"
    }
   ],
   "source": [
    "# using .read_csv() of pandas to import the dataset\n",
    "df = pd.read_csv(\"/Users/shreyansh/Documents/Projects (Github)/ipl_prediction_ml_project/uncleaned_dataset.csv\")\n",
    "df.sample(5)"
   ]
  },
  {
   "cell_type": "markdown",
   "id": "a4998e74",
   "metadata": {},
   "source": [
    "## Handling NA Values"
   ]
  },
  {
   "cell_type": "markdown",
   "id": "fb6a4e3a",
   "metadata": {},
   "source": [
    "#### Understanding NaN Distribution"
   ]
  },
  {
   "cell_type": "code",
   "execution_count": 599,
   "id": "916eda8c",
   "metadata": {},
   "outputs": [
    {
     "data": {
      "text/plain": [
       "player_name               0\n",
       "team                      0\n",
       "year                      0\n",
       "matches_played            0\n",
       "innings_bowled          783\n",
       "overs_bowled            783\n",
       "maidens_earned          783\n",
       "runs_conceded           783\n",
       "wickets_taken           783\n",
       "best_innings_bowling    783\n",
       "bowling_average         783\n",
       "economy_rate            783\n",
       "bowling_strike_rate     783\n",
       "four_wickets            783\n",
       "five_wickets            783\n",
       "innings_batted          213\n",
       "not_outs                213\n",
       "runs_scored             213\n",
       "highest_score           213\n",
       "batting_average         213\n",
       "balls_faced             213\n",
       "batting_strike_rate     213\n",
       "hundreds_scored         213\n",
       "fifties_scored          213\n",
       "ducks_scored            213\n",
       "fours_scored            213\n",
       "sixes_scored            213\n",
       "TARGET(position)          0\n",
       "dtype: int64"
      ]
     },
     "execution_count": 599,
     "metadata": {},
     "output_type": "execute_result"
    }
   ],
   "source": [
    "df.isna().sum()"
   ]
  },
  {
   "cell_type": "code",
   "execution_count": 600,
   "id": "a634dbd2",
   "metadata": {},
   "outputs": [
    {
     "name": "stderr",
     "output_type": "stream",
     "text": [
      "/Library/Frameworks/Python.framework/Versions/3.10/lib/python3.10/site-packages/seaborn/distributions.py:2619: FutureWarning: `distplot` is a deprecated function and will be removed in a future version. Please adapt your code to use either `displot` (a figure-level function with similar flexibility) or `histplot` (an axes-level function for histograms).\n",
      "  warnings.warn(msg, FutureWarning)\n"
     ]
    },
    {
     "data": {
      "text/plain": [
       "<AxesSubplot:ylabel='Density'>"
      ]
     },
     "execution_count": 600,
     "metadata": {},
     "output_type": "execute_result"
    },
    {
     "data": {
      "image/png": "[encoded data removed]",
      "text/plain": [
       "<Figure size 720x432 with 1 Axes>"
      ]
     },
     "metadata": {
      "needs_background": "light"
     },
     "output_type": "display_data"
    }
   ],
   "source": [
    "plt.figure(figsize=(10,6))\n",
    "sns.distplot(df.isna().sum())"
   ]
  },
  {
   "cell_type": "code",
   "execution_count": 601,
   "id": "36e99da2",
   "metadata": {},
   "outputs": [
    {
     "name": "stderr",
     "output_type": "stream",
     "text": [
      "/Library/Frameworks/Python.framework/Versions/3.10/lib/python3.10/site-packages/seaborn/_decorators.py:36: FutureWarning: Pass the following variable as a keyword arg: x. From version 0.12, the only valid positional argument will be `data`, and passing other arguments without an explicit keyword will result in an error or misinterpretation.\n",
      "  warnings.warn(\n"
     ]
    },
    {
     "data": {
      "text/plain": [
       "<AxesSubplot:ylabel='count'>"
      ]
     },
     "execution_count": 601,
     "metadata": {},
     "output_type": "execute_result"
    },
    {
     "data": {
      "image/png": "[encoded data removed]",
      "text/plain": [
       "<Figure size 720x432 with 1 Axes>"
      ]
     },
     "metadata": {
      "needs_background": "light"
     },
     "output_type": "display_data"
    }
   ],
   "source": [
    "plt.figure(figsize=(10,6))\n",
    "sns.countplot(df.isna().sum())"
   ]
  },
  {
   "cell_type": "markdown",
   "id": "5e0b69c6",
   "metadata": {},
   "source": [
    "#### Bowling Stats Columns with NaN Values"
   ]
  },
  {
   "cell_type": "code",
   "execution_count": 602,
   "id": "57583ced",
   "metadata": {},
   "outputs": [
    {
     "name": "stdout",
     "output_type": "stream",
     "text": [
      "Total Number of rows where innings_bowled and subsequent bowling columns are NaN:  783\n",
      "33.82% of rows have NaN values in innings_bowled column and subsequently all other bowling columns are NaN as well.\n"
     ]
    },
    {
     "data": {
      "image/png": "[encoded data removed]",
      "text/plain": [
       "<Figure size 720x432 with 1 Axes>"
      ]
     },
     "metadata": {
      "needs_background": "light"
     },
     "output_type": "display_data"
    }
   ],
   "source": [
    "# Check if innings_bowled is NaN and if all other bowling related columns are NaN as well\n",
    "bowling_cols = ['overs_bowled', 'maidens_earned', 'runs_conceded', 'wickets_taken', 'best_innings_bowling',\n",
    "                'bowling_average', 'economy_rate', 'bowling_strike_rate', 'four_wickets', 'five_wickets']\n",
    "\n",
    "null_cond = df['innings_bowled'].isnull() & df[bowling_cols].isnull().all(axis=1)\n",
    "null_rows = df[null_cond]\n",
    "print(\"Total Number of rows where innings_bowled and subsequent bowling columns are NaN: \", len(null_rows))\n",
    "\n",
    "# Calculate the percentage of rows where all bowling columns are NaN\n",
    "null_percent = round((len(null_rows) / len(df)) * 100, 2)\n",
    "\n",
    "print(f\"{null_percent}% of rows have NaN values in innings_bowled column and subsequently all other bowling columns are NaN as well.\")\n",
    "\n",
    "# Visualize the findings\n",
    "plt.figure(figsize=(10,6))\n",
    "plt.bar([\"All Bowling Columns NaN\", \"Not All Bowling Columns NaN\"], \n",
    "        [len(null_rows), len(df) - len(null_rows)], color = [\"red\",\"green\"])\n",
    "plt.title(\"NaN Values in Bowling Columns\")\n",
    "plt.xlabel(\"Condition\")\n",
    "plt.ylabel(\"Number of Rows\")\n",
    "plt.show()\n"
   ]
  },
  {
   "cell_type": "markdown",
   "id": "3f835bec",
   "metadata": {},
   "source": [
    "#### Bowling Stats Columns with NaN Values"
   ]
  },
  {
   "cell_type": "code",
   "execution_count": 603,
   "id": "511c2973",
   "metadata": {},
   "outputs": [
    {
     "name": "stdout",
     "output_type": "stream",
     "text": [
      "All batting columns are NaN when innings_batted is NaN.\n"
     ]
    }
   ],
   "source": [
    "# Check if innings_batted is NaN and if all other batting related columns are NaN as well\n",
    "batting_cols = ['not_outs', 'runs_scored', 'highest_score',\n",
    "                'batting_average', 'balls_faced', 'batting_strike_rate',\n",
    "                'hundreds_scored', 'fifties_scored', 'ducks_scored', \n",
    "                'fours_scored', 'sixes_scored']\n",
    "\n",
    "#Subset of all coluumns where inning batted is NA\n",
    "nan_rows = df[df['innings_batted'].isna()]\n",
    "\n",
    "#Checking if all batting columns are NA in the subset created\n",
    "all_batting_nan = nan_rows[batting_cols].isna().all(axis=1).all()\n",
    "\n",
    "if all_batting_nan:\n",
    "    print(\"All batting columns are NaN when innings_batted is NaN.\")\n",
    "    \n",
    "else:\n",
    "    print(\"There are non-NaN values in batting columns when innings_batted is NaN\")"
   ]
  },
  {
   "cell_type": "markdown",
   "id": "71d8817a",
   "metadata": {},
   "source": [
    "### Filling NaN values with 0\n",
    "\n",
    "#### Inference (Reasoning)\n",
    "After analyzing the missing values for both batting and bowling columns, I have found that if a player has not batted or bowled in a particular season, all of their corresponding batting and bowling columns have missing values. Hence, it is reasonable to assume that these missing values are not actual values but rather an indication that the player did not bat or bowl in those matches. Therefore, I will fill all of these missing values with 0, which is a common practice in such cases, and an accurate depiction."
   ]
  },
  {
   "cell_type": "code",
   "execution_count": 604,
   "id": "a76cf32d",
   "metadata": {},
   "outputs": [],
   "source": [
    "#Filling all na values in the dataset with 0\n",
    "df.fillna(0, inplace=True)"
   ]
  },
  {
   "cell_type": "code",
   "execution_count": 605,
   "id": "a2df74b7",
   "metadata": {},
   "outputs": [
    {
     "data": {
      "text/plain": [
       "False"
      ]
     },
     "execution_count": 605,
     "metadata": {},
     "output_type": "execute_result"
    }
   ],
   "source": [
    "#Checking whether there are any remaining NA values\n",
    "df.isna().sum().all()"
   ]
  },
  {
   "cell_type": "markdown",
   "id": "9e961a2a",
   "metadata": {},
   "source": [
    "## Adding a new column 'total_ipl_experience' \n",
    "The column will be created on the basis of how many times has a player name been repeated in the dataset."
   ]
  },
  {
   "cell_type": "code",
   "execution_count": 606,
   "id": "7366a17a",
   "metadata": {
    "scrolled": true
   },
   "outputs": [
    {
     "data": {
      "text/html": [
       "<div>\n",
       "<style scoped>\n",
       "    .dataframe tbody tr th:only-of-type {\n",
       "        vertical-align: middle;\n",
       "    }\n",
       "\n",
       "    .dataframe tbody tr th {\n",
       "        vertical-align: top;\n",
       "    }\n",
       "\n",
       "    .dataframe thead th {\n",
       "        text-align: right;\n",
       "    }\n",
       "</style>\n",
       "<table border=\"1\" class=\"dataframe\">\n",
       "  <thead>\n",
       "    <tr style=\"text-align: right;\">\n",
       "      <th></th>\n",
       "      <th>player_name</th>\n",
       "      <th>team</th>\n",
       "      <th>year</th>\n",
       "      <th>total_ipl_experience</th>\n",
       "      <th>matches_played</th>\n",
       "      <th>innings_bowled</th>\n",
       "      <th>overs_bowled</th>\n",
       "      <th>maidens_earned</th>\n",
       "      <th>runs_conceded</th>\n",
       "      <th>wickets_taken</th>\n",
       "      <th>...</th>\n",
       "      <th>highest_score</th>\n",
       "      <th>batting_average</th>\n",
       "      <th>balls_faced</th>\n",
       "      <th>batting_strike_rate</th>\n",
       "      <th>hundreds_scored</th>\n",
       "      <th>fifties_scored</th>\n",
       "      <th>ducks_scored</th>\n",
       "      <th>fours_scored</th>\n",
       "      <th>sixes_scored</th>\n",
       "      <th>TARGET(position)</th>\n",
       "    </tr>\n",
       "  </thead>\n",
       "  <tbody>\n",
       "    <tr>\n",
       "      <th>398</th>\n",
       "      <td>SC Ganguly</td>\n",
       "      <td>Kolkata Knight Riders</td>\n",
       "      <td>2010</td>\n",
       "      <td>5</td>\n",
       "      <td>14</td>\n",
       "      <td>3.0</td>\n",
       "      <td>4.0</td>\n",
       "      <td>0.0</td>\n",
       "      <td>43.0</td>\n",
       "      <td>0.0</td>\n",
       "      <td>...</td>\n",
       "      <td>88</td>\n",
       "      <td>37.92</td>\n",
       "      <td>419.0</td>\n",
       "      <td>117.66</td>\n",
       "      <td>0.0</td>\n",
       "      <td>4.0</td>\n",
       "      <td>1.0</td>\n",
       "      <td>58.0</td>\n",
       "      <td>15.0</td>\n",
       "      <td>6th</td>\n",
       "    </tr>\n",
       "    <tr>\n",
       "      <th>543</th>\n",
       "      <td>PJ Cummins</td>\n",
       "      <td>Kolkata Knight Riders</td>\n",
       "      <td>2022</td>\n",
       "      <td>6</td>\n",
       "      <td>5</td>\n",
       "      <td>5.0</td>\n",
       "      <td>19.5</td>\n",
       "      <td>0.0</td>\n",
       "      <td>212.0</td>\n",
       "      <td>7.0</td>\n",
       "      <td>...</td>\n",
       "      <td>56*</td>\n",
       "      <td>15.75</td>\n",
       "      <td>24.0</td>\n",
       "      <td>262.50</td>\n",
       "      <td>0.0</td>\n",
       "      <td>1.0</td>\n",
       "      <td>2.0</td>\n",
       "      <td>5.0</td>\n",
       "      <td>6.0</td>\n",
       "      <td>7th</td>\n",
       "    </tr>\n",
       "    <tr>\n",
       "      <th>1486</th>\n",
       "      <td>R Sharma</td>\n",
       "      <td>Pune Warriors India</td>\n",
       "      <td>2012</td>\n",
       "      <td>4</td>\n",
       "      <td>11</td>\n",
       "      <td>11.0</td>\n",
       "      <td>37.0</td>\n",
       "      <td>0.0</td>\n",
       "      <td>300.0</td>\n",
       "      <td>9.0</td>\n",
       "      <td>...</td>\n",
       "      <td>2</td>\n",
       "      <td>0.50</td>\n",
       "      <td>11.0</td>\n",
       "      <td>18.18</td>\n",
       "      <td>0.0</td>\n",
       "      <td>0.0</td>\n",
       "      <td>3.0</td>\n",
       "      <td>0.0</td>\n",
       "      <td>0.0</td>\n",
       "      <td>9th</td>\n",
       "    </tr>\n",
       "  </tbody>\n",
       "</table>\n",
       "<p>3 rows × 29 columns</p>\n",
       "</div>"
      ],
      "text/plain": [
       "     player_name                   team  year  total_ipl_experience  \\\n",
       "398   SC Ganguly  Kolkata Knight Riders  2010                     5   \n",
       "543   PJ Cummins  Kolkata Knight Riders  2022                     6   \n",
       "1486    R Sharma    Pune Warriors India  2012                     4   \n",
       "\n",
       "      matches_played  innings_bowled  overs_bowled  maidens_earned  \\\n",
       "398               14             3.0           4.0             0.0   \n",
       "543                5             5.0          19.5             0.0   \n",
       "1486              11            11.0          37.0             0.0   \n",
       "\n",
       "      runs_conceded  wickets_taken  ... highest_score batting_average  \\\n",
       "398            43.0            0.0  ...            88           37.92   \n",
       "543           212.0            7.0  ...           56*           15.75   \n",
       "1486          300.0            9.0  ...             2            0.50   \n",
       "\n",
       "      balls_faced batting_strike_rate  hundreds_scored  fifties_scored  \\\n",
       "398         419.0              117.66              0.0             4.0   \n",
       "543          24.0              262.50              0.0             1.0   \n",
       "1486         11.0               18.18              0.0             0.0   \n",
       "\n",
       "      ducks_scored  fours_scored  sixes_scored TARGET(position)  \n",
       "398            1.0          58.0          15.0              6th  \n",
       "543            2.0           5.0           6.0              7th  \n",
       "1486           3.0           0.0           0.0              9th  \n",
       "\n",
       "[3 rows x 29 columns]"
      ]
     },
     "execution_count": 606,
     "metadata": {},
     "output_type": "execute_result"
    }
   ],
   "source": [
    "tot_exp_arr = df.groupby('player_name')['player_name'].transform('count')\n",
    "df.insert(3, 'total_ipl_experience', tot_exp_arr)\n",
    "df.sample(3)"
   ]
  },
  {
   "cell_type": "markdown",
   "id": "9c9b85f3",
   "metadata": {},
   "source": [
    "## Removing \"*\" or not out symbol from highest score of players"
   ]
  },
  {
   "cell_type": "code",
   "execution_count": 607,
   "id": "557be524",
   "metadata": {},
   "outputs": [],
   "source": [
    "cleaned_highest_score = []\n",
    "#iterating through the highest score column\n",
    "for i in df.highest_score:\n",
    "    i = str(i)\n",
    "    if i[-1]==\"*\":\n",
    "        cleaned_highest_score.append(i[:-1])\n",
    "    else:\n",
    "        cleaned_highest_score.append(i)\n",
    "\n",
    "df[\"highest_score\"] = cleaned_highest_score"
   ]
  },
  {
   "cell_type": "markdown",
   "id": "125a93e0",
   "metadata": {},
   "source": [
    "## Replacing '-' with 0 for any column in the dataset (Using regular expressions)"
   ]
  },
  {
   "cell_type": "code",
   "execution_count": 608,
   "id": "3257f8cd",
   "metadata": {},
   "outputs": [],
   "source": [
    "df = df.replace('-', 0)"
   ]
  },
  {
   "cell_type": "markdown",
   "id": "a2d1cf58",
   "metadata": {},
   "source": [
    "## Changing object datatypes of columns to int/float as and where required"
   ]
  },
  {
   "cell_type": "code",
   "execution_count": 609,
   "id": "02c352f9",
   "metadata": {},
   "outputs": [],
   "source": [
    "#object to float\n",
    "float_conv_columns = [\"bowling_average\", \"bowling_strike_rate\",\n",
    "                     \"batting_average\", \"batting_strike_rate\"]\n",
    "\n",
    "# looping through the columns and convert their datatype to float\n",
    "for col in float_conv_columns:\n",
    "    df[col] = df[col].astype(float)"
   ]
  },
  {
   "cell_type": "code",
   "execution_count": 610,
   "id": "e1334263",
   "metadata": {},
   "outputs": [],
   "source": [
    "#object to int\n",
    "int_convert_columns = [\"highest_score\"]\n",
    "\n",
    "# looping through the columns and convert their datatype to integer\n",
    "for col in int_convert_columns:\n",
    "    df[col] = pd.to_numeric(df[col], errors='coerce').astype('Int64')"
   ]
  },
  {
   "cell_type": "markdown",
   "id": "d3c6cd32",
   "metadata": {},
   "source": [
    "## Encoding Year Feature (Ordinal Encoding)"
   ]
  },
  {
   "cell_type": "code",
   "execution_count": 611,
   "id": "611f9972",
   "metadata": {},
   "outputs": [],
   "source": [
    "oe = OrdinalEncoder()\n",
    "df['year'] = oe.fit_transform(df[['year']])"
   ]
  },
  {
   "cell_type": "markdown",
   "id": "8a281e16",
   "metadata": {},
   "source": [
    "## Encoding Team Feature (Label Encoding)\n",
    "\n",
    "The team name is a relevant feature for predicting the target variable (position a team finished). Keeping this feature will will help our machine learning algorithm to learn the patterns and correlations between team names and their final positions in the IPL.<br>\n",
    "\n",
    "It is true that some teams may have never finished first in the IPL, but that does not mean that the team name is not informative for predicting the final position. In fact, the performance of a team over the years can be an important factor that affects its final position, and this information can be captured through the team name feature."
   ]
  },
  {
   "cell_type": "code",
   "execution_count": 612,
   "id": "7faf8a9a",
   "metadata": {},
   "outputs": [
    {
     "name": "stderr",
     "output_type": "stream",
     "text": [
      "/Library/Frameworks/Python.framework/Versions/3.10/lib/python3.10/site-packages/sklearn/preprocessing/_label.py:115: DataConversionWarning: A column-vector y was passed when a 1d array was expected. Please change the shape of y to (n_samples, ), for example using ravel().\n",
      "  y = column_or_1d(y, warn=True)\n"
     ]
    }
   ],
   "source": [
    "le = LabelEncoder()\n",
    "df['team'] = le.fit_transform(df[['team']])"
   ]
  },
  {
   "cell_type": "markdown",
   "id": "f7eaf177",
   "metadata": {},
   "source": [
    "## Dropping Redundant Columns"
   ]
  },
  {
   "cell_type": "markdown",
   "id": "4692a098",
   "metadata": {},
   "source": [
    "### Dropping Best Bowling Figures for an Innings\n",
    "This column has values like 3/20 or 4/15, representing such a numeric value is impossible, and can't be comprehended by the machine. The machine will look at it as string or categories, which is useless, and not accurate."
   ]
  },
  {
   "cell_type": "code",
   "execution_count": 613,
   "id": "f493e50b",
   "metadata": {},
   "outputs": [],
   "source": [
    "df.drop('best_innings_bowling', axis=1, inplace=True)"
   ]
  },
  {
   "cell_type": "markdown",
   "id": "141be932",
   "metadata": {},
   "source": [
    "### Dropping Player Name\n",
    "As the player name does not have any impact on the position the team finished in, and as its a string value, we are dropping the same."
   ]
  },
  {
   "cell_type": "code",
   "execution_count": 614,
   "id": "9781e378",
   "metadata": {},
   "outputs": [],
   "source": [
    "df.drop('player_name', axis=1, inplace=True)"
   ]
  },
  {
   "cell_type": "markdown",
   "id": "04940ff2",
   "metadata": {},
   "source": [
    "## Working with the Target Variable"
   ]
  },
  {
   "cell_type": "code",
   "execution_count": 615,
   "id": "f9749aeb",
   "metadata": {},
   "outputs": [
    {
     "data": {
      "text/plain": [
       "6th     306\n",
       "8th     277\n",
       "7th     276\n",
       "5th     274\n",
       "2nd     267\n",
       "1st     263\n",
       "3rd     238\n",
       "4th     206\n",
       "9th      90\n",
       "SF       74\n",
       "10th     44\n",
       "Name: TARGET(position), dtype: int64"
      ]
     },
     "execution_count": 615,
     "metadata": {},
     "output_type": "execute_result"
    }
   ],
   "source": [
    "#Target Value Counts\n",
    "df[\"TARGET(position)\"].value_counts()"
   ]
  },
  {
   "cell_type": "markdown",
   "id": "1d508adc",
   "metadata": {},
   "source": [
    "### Replacing 'SF' in TARGET variable, to 3rd\n",
    "As in the year's 2008 and 2009, there were no eliminators, the semifinalist who got knocked out were not adjourned 3rd or 4th. To solve this problem we are awarding both of them as 3rd."
   ]
  },
  {
   "cell_type": "code",
   "execution_count": 616,
   "id": "cb1f3edb",
   "metadata": {},
   "outputs": [],
   "source": [
    "#Replacing Semifinalist as 3rd\n",
    "df = df.replace({'SF': '3rd'}, regex=True)"
   ]
  },
  {
   "cell_type": "markdown",
   "id": "6f5f1b54",
   "metadata": {},
   "source": [
    "### Ordinal Encoding the target variable"
   ]
  },
  {
   "cell_type": "code",
   "execution_count": 617,
   "id": "699f3108",
   "metadata": {},
   "outputs": [],
   "source": [
    "oe = OrdinalEncoder()\n",
    "\n",
    "# Fit and transform the data\n",
    "df['TARGET(position)'] = oe.fit_transform(df[['TARGET(position)']])"
   ]
  },
  {
   "cell_type": "markdown",
   "id": "f11b4390",
   "metadata": {},
   "source": [
    "### Renaming Target(position) column to just Target"
   ]
  },
  {
   "cell_type": "code",
   "execution_count": 618,
   "id": "c3d8391e",
   "metadata": {},
   "outputs": [],
   "source": [
    "df.rename(columns = {'TARGET(position)':'Target'}, inplace = True)"
   ]
  },
  {
   "cell_type": "markdown",
   "id": "a1bf000d",
   "metadata": {},
   "source": [
    "## Scaling (Robust Scaling) the data \n",
    "\n",
    "__This is also an outlier removal or smoothening technique__\n",
    "\n",
    "Robust scaling is a good choice for these columns because it is a method of scaling that is not affected by outliers in the data. As some of these columns represent performance metrics in cricket, such as runs scored or wickets taken, it is possible that there may be outliers in the data due to particularly exceptional performances. By using robust scaling, these outliers will not disproportionately affect the scaling of the data.<br>\n",
    "\n",
    "Additionally, robust scaling is a good choice when the data is not normally distributed, as it uses the median and interquartile range instead of the mean and standard deviation. Since the distribution of performance metrics in cricket may not be normal, robust scaling can help to ensure that the scaling is more appropriate for the data."
   ]
  },
  {
   "cell_type": "code",
   "execution_count": 619,
   "id": "06c5a205",
   "metadata": {},
   "outputs": [],
   "source": [
    "#Dropping the target variable\n",
    "X = df.drop(\"Target\",axis=1)\n",
    "\n",
    "# Initialize a RobustScaler object\n",
    "rs = RobustScaler()\n",
    "\n",
    "# Fit the scaler to the data\n",
    "rs.fit(X)\n",
    "\n",
    "# Transform the data using the scaler\n",
    "X_scaled = rs.transform(X)\n",
    "\n",
    "# Create a new DataFrame from the scaled data\n",
    "df_pp = pd.DataFrame(X_scaled, columns=X.columns)\n",
    "\n",
    "df_pp[\"Target\"] = df['Target']"
   ]
  },
  {
   "cell_type": "code",
   "execution_count": 637,
   "id": "f7006878",
   "metadata": {
    "scrolled": true
   },
   "outputs": [
    {
     "data": {
      "text/html": [
       "<div>\n",
       "<style scoped>\n",
       "    .dataframe tbody tr th:only-of-type {\n",
       "        vertical-align: middle;\n",
       "    }\n",
       "\n",
       "    .dataframe tbody tr th {\n",
       "        vertical-align: top;\n",
       "    }\n",
       "\n",
       "    .dataframe thead th {\n",
       "        text-align: right;\n",
       "    }\n",
       "</style>\n",
       "<table border=\"1\" class=\"dataframe\">\n",
       "  <thead>\n",
       "    <tr style=\"text-align: right;\">\n",
       "      <th></th>\n",
       "      <th>overs_bowled</th>\n",
       "      <th>bowling_strike_rate</th>\n",
       "      <th>not_outs</th>\n",
       "      <th>bowling_average</th>\n",
       "      <th>year</th>\n",
       "      <th>wickets_taken</th>\n",
       "      <th>maidens_earned</th>\n",
       "      <th>innings_batted</th>\n",
       "      <th>runs_scored</th>\n",
       "      <th>fifties_scored</th>\n",
       "      <th>runs_conceded</th>\n",
       "      <th>matches_played</th>\n",
       "      <th>balls_faced</th>\n",
       "      <th>fours_scored</th>\n",
       "      <th>team</th>\n",
       "    </tr>\n",
       "  </thead>\n",
       "  <tbody>\n",
       "    <tr>\n",
       "      <th>1291</th>\n",
       "      <td>-0.128480</td>\n",
       "      <td>0.254386</td>\n",
       "      <td>-0.5</td>\n",
       "      <td>0.894651</td>\n",
       "      <td>0.000000</td>\n",
       "      <td>0.000000</td>\n",
       "      <td>0.0</td>\n",
       "      <td>-0.500</td>\n",
       "      <td>-0.205882</td>\n",
       "      <td>0.0</td>\n",
       "      <td>-0.036458</td>\n",
       "      <td>-0.7</td>\n",
       "      <td>-0.231660</td>\n",
       "      <td>-0.214286</td>\n",
       "      <td>0.125</td>\n",
       "    </tr>\n",
       "    <tr>\n",
       "      <th>2097</th>\n",
       "      <td>-0.256959</td>\n",
       "      <td>-0.535088</td>\n",
       "      <td>-0.5</td>\n",
       "      <td>-0.540444</td>\n",
       "      <td>-0.142857</td>\n",
       "      <td>-0.166667</td>\n",
       "      <td>0.0</td>\n",
       "      <td>-0.375</td>\n",
       "      <td>-0.194118</td>\n",
       "      <td>0.0</td>\n",
       "      <td>-0.265625</td>\n",
       "      <td>-0.7</td>\n",
       "      <td>-0.162162</td>\n",
       "      <td>-0.214286</td>\n",
       "      <td>0.250</td>\n",
       "    </tr>\n",
       "    <tr>\n",
       "      <th>153</th>\n",
       "      <td>1.850107</td>\n",
       "      <td>0.184211</td>\n",
       "      <td>0.0</td>\n",
       "      <td>0.158839</td>\n",
       "      <td>0.571429</td>\n",
       "      <td>2.833333</td>\n",
       "      <td>1.0</td>\n",
       "      <td>-0.125</td>\n",
       "      <td>-0.170588</td>\n",
       "      <td>0.0</td>\n",
       "      <td>1.744792</td>\n",
       "      <td>0.6</td>\n",
       "      <td>-0.108108</td>\n",
       "      <td>-0.214286</td>\n",
       "      <td>0.500</td>\n",
       "    </tr>\n",
       "  </tbody>\n",
       "</table>\n",
       "</div>"
      ],
      "text/plain": [
       "      overs_bowled  bowling_strike_rate  not_outs  bowling_average      year  \\\n",
       "1291     -0.128480             0.254386      -0.5         0.894651  0.000000   \n",
       "2097     -0.256959            -0.535088      -0.5        -0.540444 -0.142857   \n",
       "153       1.850107             0.184211       0.0         0.158839  0.571429   \n",
       "\n",
       "      wickets_taken  maidens_earned  innings_batted  runs_scored  \\\n",
       "1291       0.000000             0.0          -0.500    -0.205882   \n",
       "2097      -0.166667             0.0          -0.375    -0.194118   \n",
       "153        2.833333             1.0          -0.125    -0.170588   \n",
       "\n",
       "      fifties_scored  runs_conceded  matches_played  balls_faced  \\\n",
       "1291             0.0      -0.036458            -0.7    -0.231660   \n",
       "2097             0.0      -0.265625            -0.7    -0.162162   \n",
       "153              0.0       1.744792             0.6    -0.108108   \n",
       "\n",
       "      fours_scored   team  \n",
       "1291     -0.214286  0.125  \n",
       "2097     -0.214286  0.250  \n",
       "153      -0.214286  0.500  "
      ]
     },
     "execution_count": 637,
     "metadata": {},
     "output_type": "execute_result"
    }
   ],
   "source": [
    "df_pp.sample(3)"
   ]
  },
  {
   "cell_type": "code",
   "execution_count": 649,
   "id": "fdedac92",
   "metadata": {},
   "outputs": [],
   "source": [
    "# Create PCA object and fit the data\n",
    "pca = PCA(n_components=10)\n",
    "principal_components = pca.fit_transform(df_pp)\n",
    "\n",
    "df_pca = pd.DataFrame(principal_components,\n",
    "            columns = [\"PC1\",\"PC2\",\"PC3\",\"PC4\",\"PC5\",\n",
    "                      \"PC6\",\"PC7\",\"PC8\",\"PC9\",\"PC10\"])\n",
    "\n",
    "df_pca[\"Target\"] = df_pp_target "
   ]
  },
  {
   "cell_type": "code",
   "execution_count": 650,
   "id": "c652f592",
   "metadata": {},
   "outputs": [
    {
     "data": {
      "text/html": [
       "<div>\n",
       "<style scoped>\n",
       "    .dataframe tbody tr th:only-of-type {\n",
       "        vertical-align: middle;\n",
       "    }\n",
       "\n",
       "    .dataframe tbody tr th {\n",
       "        vertical-align: top;\n",
       "    }\n",
       "\n",
       "    .dataframe thead th {\n",
       "        text-align: right;\n",
       "    }\n",
       "</style>\n",
       "<table border=\"1\" class=\"dataframe\">\n",
       "  <thead>\n",
       "    <tr style=\"text-align: right;\">\n",
       "      <th></th>\n",
       "      <th>PC1</th>\n",
       "      <th>PC2</th>\n",
       "      <th>PC3</th>\n",
       "      <th>PC4</th>\n",
       "      <th>PC5</th>\n",
       "      <th>PC6</th>\n",
       "      <th>PC7</th>\n",
       "      <th>PC8</th>\n",
       "      <th>PC9</th>\n",
       "      <th>PC10</th>\n",
       "      <th>Target</th>\n",
       "    </tr>\n",
       "  </thead>\n",
       "  <tbody>\n",
       "    <tr>\n",
       "      <th>1342</th>\n",
       "      <td>-1.341442</td>\n",
       "      <td>-1.294568</td>\n",
       "      <td>0.752588</td>\n",
       "      <td>-0.311662</td>\n",
       "      <td>0.579349</td>\n",
       "      <td>-0.073554</td>\n",
       "      <td>0.110350</td>\n",
       "      <td>0.004619</td>\n",
       "      <td>0.189957</td>\n",
       "      <td>0.104530</td>\n",
       "      <td>6.0</td>\n",
       "    </tr>\n",
       "    <tr>\n",
       "      <th>589</th>\n",
       "      <td>2.871949</td>\n",
       "      <td>1.397743</td>\n",
       "      <td>0.979301</td>\n",
       "      <td>0.488209</td>\n",
       "      <td>-0.057659</td>\n",
       "      <td>-0.065279</td>\n",
       "      <td>-0.179482</td>\n",
       "      <td>-0.069166</td>\n",
       "      <td>-0.168415</td>\n",
       "      <td>0.196629</td>\n",
       "      <td>1.0</td>\n",
       "    </tr>\n",
       "    <tr>\n",
       "      <th>1453</th>\n",
       "      <td>-1.500313</td>\n",
       "      <td>0.026060</td>\n",
       "      <td>0.406259</td>\n",
       "      <td>-0.102376</td>\n",
       "      <td>0.100444</td>\n",
       "      <td>0.686786</td>\n",
       "      <td>0.073458</td>\n",
       "      <td>-0.156892</td>\n",
       "      <td>0.000738</td>\n",
       "      <td>-0.037137</td>\n",
       "      <td>7.0</td>\n",
       "    </tr>\n",
       "    <tr>\n",
       "      <th>644</th>\n",
       "      <td>-2.570082</td>\n",
       "      <td>3.313326</td>\n",
       "      <td>-1.888115</td>\n",
       "      <td>-2.005893</td>\n",
       "      <td>0.408848</td>\n",
       "      <td>-0.020531</td>\n",
       "      <td>-0.143920</td>\n",
       "      <td>2.134460</td>\n",
       "      <td>0.125252</td>\n",
       "      <td>0.632335</td>\n",
       "      <td>1.0</td>\n",
       "    </tr>\n",
       "    <tr>\n",
       "      <th>43</th>\n",
       "      <td>-2.095979</td>\n",
       "      <td>2.411046</td>\n",
       "      <td>-0.512301</td>\n",
       "      <td>-1.255063</td>\n",
       "      <td>-0.624981</td>\n",
       "      <td>-0.841906</td>\n",
       "      <td>-0.270477</td>\n",
       "      <td>0.384873</td>\n",
       "      <td>-0.334882</td>\n",
       "      <td>-0.527785</td>\n",
       "      <td>2.0</td>\n",
       "    </tr>\n",
       "    <tr>\n",
       "      <th>1806</th>\n",
       "      <td>-0.955354</td>\n",
       "      <td>-1.932924</td>\n",
       "      <td>-0.423956</td>\n",
       "      <td>-0.249213</td>\n",
       "      <td>0.631984</td>\n",
       "      <td>0.449959</td>\n",
       "      <td>0.121095</td>\n",
       "      <td>0.031318</td>\n",
       "      <td>0.071057</td>\n",
       "      <td>-0.037198</td>\n",
       "      <td>5.0</td>\n",
       "    </tr>\n",
       "    <tr>\n",
       "      <th>2001</th>\n",
       "      <td>-0.641324</td>\n",
       "      <td>-1.789531</td>\n",
       "      <td>-0.446204</td>\n",
       "      <td>-0.129728</td>\n",
       "      <td>-0.055679</td>\n",
       "      <td>0.782637</td>\n",
       "      <td>-0.094515</td>\n",
       "      <td>0.036996</td>\n",
       "      <td>-0.023763</td>\n",
       "      <td>-0.011482</td>\n",
       "      <td>6.0</td>\n",
       "    </tr>\n",
       "  </tbody>\n",
       "</table>\n",
       "</div>"
      ],
      "text/plain": [
       "           PC1       PC2       PC3       PC4       PC5       PC6       PC7  \\\n",
       "1342 -1.341442 -1.294568  0.752588 -0.311662  0.579349 -0.073554  0.110350   \n",
       "589   2.871949  1.397743  0.979301  0.488209 -0.057659 -0.065279 -0.179482   \n",
       "1453 -1.500313  0.026060  0.406259 -0.102376  0.100444  0.686786  0.073458   \n",
       "644  -2.570082  3.313326 -1.888115 -2.005893  0.408848 -0.020531 -0.143920   \n",
       "43   -2.095979  2.411046 -0.512301 -1.255063 -0.624981 -0.841906 -0.270477   \n",
       "1806 -0.955354 -1.932924 -0.423956 -0.249213  0.631984  0.449959  0.121095   \n",
       "2001 -0.641324 -1.789531 -0.446204 -0.129728 -0.055679  0.782637 -0.094515   \n",
       "\n",
       "           PC8       PC9      PC10  Target  \n",
       "1342  0.004619  0.189957  0.104530     6.0  \n",
       "589  -0.069166 -0.168415  0.196629     1.0  \n",
       "1453 -0.156892  0.000738 -0.037137     7.0  \n",
       "644   2.134460  0.125252  0.632335     1.0  \n",
       "43    0.384873 -0.334882 -0.527785     2.0  \n",
       "1806  0.031318  0.071057 -0.037198     5.0  \n",
       "2001  0.036996 -0.023763 -0.011482     6.0  "
      ]
     },
     "execution_count": 650,
     "metadata": {},
     "output_type": "execute_result"
    }
   ],
   "source": [
    "df_pca.sample(7)"
   ]
  },
  {
   "cell_type": "markdown",
   "id": "6b244196",
   "metadata": {},
   "source": [
    "## Exporting (PCA) pre-processed dataset"
   ]
  },
  {
   "cell_type": "code",
   "execution_count": 658,
   "id": "122604c9",
   "metadata": {},
   "outputs": [],
   "source": [
    "df_pca.to_csv(\"pre_processed_dataset.csv\")"
   ]
  }
 ],
 "metadata": {
  "kernelspec": {
   "display_name": "Python 3 (ipykernel)",
   "language": "python",
   "name": "python3"
  },
  "language_info": {
   "codemirror_mode": {
    "name": "ipython",
    "version": 3
   },
   "file_extension": ".py",
   "mimetype": "text/x-python",
   "name": "python",
   "nbconvert_exporter": "python",
   "pygments_lexer": "ipython3",
   "version": "3.10.1"
  }
 },
 "nbformat": 4,
 "nbformat_minor": 5
}
